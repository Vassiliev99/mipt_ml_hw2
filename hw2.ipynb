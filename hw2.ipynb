{
 "cells": [
  {
   "cell_type": "code",
   "execution_count": 151,
   "metadata": {
    "collapsed": true,
    "pycharm": {
     "name": "#%%\n"
    }
   },
   "outputs": [],
   "source": [
    "import pandas as pd\n",
    "import numpy as np\n",
    "import matplotlib.pyplot as plt\n",
    "import seaborn as sns\n",
    "from sklearn.metrics import mean_squared_log_error, plot_roc_curve, roc_auc_score\n",
    "from sklearn.model_selection import KFold\n",
    "from sklearn.linear_model import LogisticRegression\n",
    "from sklearn.model_selection import train_test_split"
   ]
  },
  {
   "cell_type": "code",
   "execution_count": 152,
   "outputs": [],
   "source": [
    "def my_cross_validation(estimator, X, y, k):\n",
    "    kf = KFold(n_splits=k, shuffle = True, random_state=0)\n",
    "    rocaucs = []\n",
    "    for train_index, test_index in kf.split(X):\n",
    "        X_train, X_test = X.iloc[train_index], X.iloc[test_index]\n",
    "        y_train, y_test = y.iloc[train_index], y.iloc[test_index]\n",
    "\n",
    "        estimator.fit(X_train, y_train)\n",
    "        y_pred = estimator.predict_proba(X_test)[:,1]\n",
    "        rocauc = roc_auc_score(y_test, y_pred)\n",
    "        rocaucs.append(rocauc)\n",
    "        print(rocauc)\n",
    "    return np.mean(rocaucs), np.std(rocaucs)\n",
    "\n",
    "def normalize(features):\n",
    "    for f in features:\n",
    "        if abs(train[f].max()) > abs(train[f].min()):\n",
    "            train[f] = (train[f] - train[f].mean()) / train[f].max()\n",
    "            test[f] = (test[f] - test[f].mean()) / test[f].max()\n",
    "        else:\n",
    "            train[f] = (train[f] - train[f].mean()) / train[f].min()\n",
    "            test[f] = (test[f] - test[f].mean()) / test[f].min()"
   ],
   "metadata": {
    "collapsed": false,
    "pycharm": {
     "name": "#%%\n"
    }
   }
  },
  {
   "cell_type": "code",
   "execution_count": 153,
   "outputs": [
    {
     "data": {
      "text/plain": "   SK_ID_CURR  TARGET NAME_CONTRACT_TYPE CODE_GENDER FLAG_OWN_CAR  \\\n0      100002       1         Cash loans           M            N   \n1      100003       0         Cash loans           F            N   \n2      100004       0    Revolving loans           M            Y   \n3      100006       0         Cash loans           F            N   \n4      100007       0         Cash loans           M            N   \n\n  FLAG_OWN_REALTY  CNT_CHILDREN  AMT_INCOME_TOTAL  AMT_CREDIT  AMT_ANNUITY  \\\n0               Y             0          202500.0    406597.5      24700.5   \n1               N             0          270000.0   1293502.5      35698.5   \n2               Y             0           67500.0    135000.0       6750.0   \n3               Y             0          135000.0    312682.5      29686.5   \n4               Y             0          121500.0    513000.0      21865.5   \n\n   AMT_GOODS_PRICE NAME_TYPE_SUITE NAME_INCOME_TYPE  \\\n0         351000.0   Unaccompanied          Working   \n1        1129500.0          Family    State servant   \n2         135000.0   Unaccompanied          Working   \n3         297000.0   Unaccompanied          Working   \n4         513000.0   Unaccompanied          Working   \n\n             NAME_EDUCATION_TYPE    NAME_FAMILY_STATUS  NAME_HOUSING_TYPE  \\\n0  Secondary / secondary special  Single / not married  House / apartment   \n1               Higher education               Married  House / apartment   \n2  Secondary / secondary special  Single / not married  House / apartment   \n3  Secondary / secondary special        Civil marriage  House / apartment   \n4  Secondary / secondary special  Single / not married  House / apartment   \n\n   REGION_POPULATION_RELATIVE  DAYS_BIRTH  DAYS_EMPLOYED  DAYS_REGISTRATION  \\\n0                    0.018801       -9461           -637            -3648.0   \n1                    0.003541      -16765          -1188            -1186.0   \n2                    0.010032      -19046           -225            -4260.0   \n3                    0.008019      -19005          -3039            -9833.0   \n4                    0.028663      -19932          -3038            -4311.0   \n\n   DAYS_ID_PUBLISH  OWN_CAR_AGE  FLAG_MOBIL  FLAG_EMP_PHONE  FLAG_WORK_PHONE  \\\n0            -2120          NaN           1               1                0   \n1             -291          NaN           1               1                0   \n2            -2531         26.0           1               1                1   \n3            -2437          NaN           1               1                0   \n4            -3458          NaN           1               1                0   \n\n   FLAG_CONT_MOBILE  FLAG_PHONE  FLAG_EMAIL OCCUPATION_TYPE  CNT_FAM_MEMBERS  \\\n0                 1           1           0        Laborers              1.0   \n1                 1           1           0      Core staff              2.0   \n2                 1           1           0        Laborers              1.0   \n3                 1           0           0        Laborers              2.0   \n4                 1           0           0      Core staff              1.0   \n\n   REGION_RATING_CLIENT  REGION_RATING_CLIENT_W_CITY  \\\n0                     2                            2   \n1                     1                            1   \n2                     2                            2   \n3                     2                            2   \n4                     2                            2   \n\n  WEEKDAY_APPR_PROCESS_START  HOUR_APPR_PROCESS_START  \\\n0                  WEDNESDAY                       10   \n1                     MONDAY                       11   \n2                     MONDAY                        9   \n3                  WEDNESDAY                       17   \n4                   THURSDAY                       11   \n\n   REG_REGION_NOT_LIVE_REGION  REG_REGION_NOT_WORK_REGION  \\\n0                           0                           0   \n1                           0                           0   \n2                           0                           0   \n3                           0                           0   \n4                           0                           0   \n\n   LIVE_REGION_NOT_WORK_REGION  REG_CITY_NOT_LIVE_CITY  \\\n0                            0                       0   \n1                            0                       0   \n2                            0                       0   \n3                            0                       0   \n4                            0                       0   \n\n   REG_CITY_NOT_WORK_CITY  LIVE_CITY_NOT_WORK_CITY       ORGANIZATION_TYPE  \\\n0                       0                        0  Business Entity Type 3   \n1                       0                        0                  School   \n2                       0                        0              Government   \n3                       0                        0  Business Entity Type 3   \n4                       1                        1                Religion   \n\n   EXT_SOURCE_1  EXT_SOURCE_2  EXT_SOURCE_3  APARTMENTS_AVG  BASEMENTAREA_AVG  \\\n0      0.083037      0.262949      0.139376          0.0247            0.0369   \n1      0.311267      0.622246           NaN          0.0959            0.0529   \n2           NaN      0.555912      0.729567             NaN               NaN   \n3           NaN      0.650442           NaN             NaN               NaN   \n4           NaN      0.322738           NaN             NaN               NaN   \n\n   YEARS_BEGINEXPLUATATION_AVG  YEARS_BUILD_AVG  COMMONAREA_AVG  \\\n0                       0.9722           0.6192          0.0143   \n1                       0.9851           0.7960          0.0605   \n2                          NaN              NaN             NaN   \n3                          NaN              NaN             NaN   \n4                          NaN              NaN             NaN   \n\n   ELEVATORS_AVG  ENTRANCES_AVG  FLOORSMAX_AVG  FLOORSMIN_AVG  LANDAREA_AVG  \\\n0           0.00         0.0690         0.0833         0.1250        0.0369   \n1           0.08         0.0345         0.2917         0.3333        0.0130   \n2            NaN            NaN            NaN            NaN           NaN   \n3            NaN            NaN            NaN            NaN           NaN   \n4            NaN            NaN            NaN            NaN           NaN   \n\n   LIVINGAPARTMENTS_AVG  LIVINGAREA_AVG  NONLIVINGAPARTMENTS_AVG  \\\n0                0.0202          0.0190                   0.0000   \n1                0.0773          0.0549                   0.0039   \n2                   NaN             NaN                      NaN   \n3                   NaN             NaN                      NaN   \n4                   NaN             NaN                      NaN   \n\n   NONLIVINGAREA_AVG  APARTMENTS_MODE  BASEMENTAREA_MODE  \\\n0             0.0000           0.0252             0.0383   \n1             0.0098           0.0924             0.0538   \n2                NaN              NaN                NaN   \n3                NaN              NaN                NaN   \n4                NaN              NaN                NaN   \n\n   YEARS_BEGINEXPLUATATION_MODE  YEARS_BUILD_MODE  COMMONAREA_MODE  \\\n0                        0.9722            0.6341           0.0144   \n1                        0.9851            0.8040           0.0497   \n2                           NaN               NaN              NaN   \n3                           NaN               NaN              NaN   \n4                           NaN               NaN              NaN   \n\n   ELEVATORS_MODE  ENTRANCES_MODE  FLOORSMAX_MODE  FLOORSMIN_MODE  \\\n0          0.0000          0.0690          0.0833          0.1250   \n1          0.0806          0.0345          0.2917          0.3333   \n2             NaN             NaN             NaN             NaN   \n3             NaN             NaN             NaN             NaN   \n4             NaN             NaN             NaN             NaN   \n\n   LANDAREA_MODE  LIVINGAPARTMENTS_MODE  LIVINGAREA_MODE  \\\n0         0.0377                  0.022           0.0198   \n1         0.0128                  0.079           0.0554   \n2            NaN                    NaN              NaN   \n3            NaN                    NaN              NaN   \n4            NaN                    NaN              NaN   \n\n   NONLIVINGAPARTMENTS_MODE  NONLIVINGAREA_MODE  APARTMENTS_MEDI  \\\n0                       0.0                 0.0           0.0250   \n1                       0.0                 0.0           0.0968   \n2                       NaN                 NaN              NaN   \n3                       NaN                 NaN              NaN   \n4                       NaN                 NaN              NaN   \n\n   BASEMENTAREA_MEDI  YEARS_BEGINEXPLUATATION_MEDI  YEARS_BUILD_MEDI  \\\n0             0.0369                        0.9722            0.6243   \n1             0.0529                        0.9851            0.7987   \n2                NaN                           NaN               NaN   \n3                NaN                           NaN               NaN   \n4                NaN                           NaN               NaN   \n\n   COMMONAREA_MEDI  ELEVATORS_MEDI  ENTRANCES_MEDI  FLOORSMAX_MEDI  \\\n0           0.0144            0.00          0.0690          0.0833   \n1           0.0608            0.08          0.0345          0.2917   \n2              NaN             NaN             NaN             NaN   \n3              NaN             NaN             NaN             NaN   \n4              NaN             NaN             NaN             NaN   \n\n   FLOORSMIN_MEDI  LANDAREA_MEDI  LIVINGAPARTMENTS_MEDI  LIVINGAREA_MEDI  \\\n0          0.1250         0.0375                 0.0205           0.0193   \n1          0.3333         0.0132                 0.0787           0.0558   \n2             NaN            NaN                    NaN              NaN   \n3             NaN            NaN                    NaN              NaN   \n4             NaN            NaN                    NaN              NaN   \n\n   NONLIVINGAPARTMENTS_MEDI  NONLIVINGAREA_MEDI FONDKAPREMONT_MODE  \\\n0                    0.0000                0.00   reg oper account   \n1                    0.0039                0.01   reg oper account   \n2                       NaN                 NaN                NaN   \n3                       NaN                 NaN                NaN   \n4                       NaN                 NaN                NaN   \n\n   HOUSETYPE_MODE  TOTALAREA_MODE WALLSMATERIAL_MODE EMERGENCYSTATE_MODE  \\\n0  block of flats          0.0149       Stone, brick                  No   \n1  block of flats          0.0714              Block                  No   \n2             NaN             NaN                NaN                 NaN   \n3             NaN             NaN                NaN                 NaN   \n4             NaN             NaN                NaN                 NaN   \n\n   OBS_30_CNT_SOCIAL_CIRCLE  DEF_30_CNT_SOCIAL_CIRCLE  \\\n0                       2.0                       2.0   \n1                       1.0                       0.0   \n2                       0.0                       0.0   \n3                       2.0                       0.0   \n4                       0.0                       0.0   \n\n   OBS_60_CNT_SOCIAL_CIRCLE  DEF_60_CNT_SOCIAL_CIRCLE  DAYS_LAST_PHONE_CHANGE  \\\n0                       2.0                       2.0                 -1134.0   \n1                       1.0                       0.0                  -828.0   \n2                       0.0                       0.0                  -815.0   \n3                       2.0                       0.0                  -617.0   \n4                       0.0                       0.0                 -1106.0   \n\n   FLAG_DOCUMENT_2  FLAG_DOCUMENT_3  FLAG_DOCUMENT_4  FLAG_DOCUMENT_5  \\\n0                0                1                0                0   \n1                0                1                0                0   \n2                0                0                0                0   \n3                0                1                0                0   \n4                0                0                0                0   \n\n   FLAG_DOCUMENT_6  FLAG_DOCUMENT_7  FLAG_DOCUMENT_8  FLAG_DOCUMENT_9  \\\n0                0                0                0                0   \n1                0                0                0                0   \n2                0                0                0                0   \n3                0                0                0                0   \n4                0                0                1                0   \n\n   FLAG_DOCUMENT_10  FLAG_DOCUMENT_11  FLAG_DOCUMENT_12  FLAG_DOCUMENT_13  \\\n0                 0                 0                 0                 0   \n1                 0                 0                 0                 0   \n2                 0                 0                 0                 0   \n3                 0                 0                 0                 0   \n4                 0                 0                 0                 0   \n\n   FLAG_DOCUMENT_14  FLAG_DOCUMENT_15  FLAG_DOCUMENT_16  FLAG_DOCUMENT_17  \\\n0                 0                 0                 0                 0   \n1                 0                 0                 0                 0   \n2                 0                 0                 0                 0   \n3                 0                 0                 0                 0   \n4                 0                 0                 0                 0   \n\n   FLAG_DOCUMENT_18  FLAG_DOCUMENT_19  FLAG_DOCUMENT_20  FLAG_DOCUMENT_21  \\\n0                 0                 0                 0                 0   \n1                 0                 0                 0                 0   \n2                 0                 0                 0                 0   \n3                 0                 0                 0                 0   \n4                 0                 0                 0                 0   \n\n   AMT_REQ_CREDIT_BUREAU_HOUR  AMT_REQ_CREDIT_BUREAU_DAY  \\\n0                         0.0                        0.0   \n1                         0.0                        0.0   \n2                         0.0                        0.0   \n3                         NaN                        NaN   \n4                         0.0                        0.0   \n\n   AMT_REQ_CREDIT_BUREAU_WEEK  AMT_REQ_CREDIT_BUREAU_MON  \\\n0                         0.0                        0.0   \n1                         0.0                        0.0   \n2                         0.0                        0.0   \n3                         NaN                        NaN   \n4                         0.0                        0.0   \n\n   AMT_REQ_CREDIT_BUREAU_QRT  AMT_REQ_CREDIT_BUREAU_YEAR  \n0                        0.0                         1.0  \n1                        0.0                         0.0  \n2                        0.0                         0.0  \n3                        NaN                         NaN  \n4                        0.0                         0.0  ",
      "text/html": "<div>\n<style scoped>\n    .dataframe tbody tr th:only-of-type {\n        vertical-align: middle;\n    }\n\n    .dataframe tbody tr th {\n        vertical-align: top;\n    }\n\n    .dataframe thead th {\n        text-align: right;\n    }\n</style>\n<table border=\"1\" class=\"dataframe\">\n  <thead>\n    <tr style=\"text-align: right;\">\n      <th></th>\n      <th>SK_ID_CURR</th>\n      <th>TARGET</th>\n      <th>NAME_CONTRACT_TYPE</th>\n      <th>CODE_GENDER</th>\n      <th>FLAG_OWN_CAR</th>\n      <th>FLAG_OWN_REALTY</th>\n      <th>CNT_CHILDREN</th>\n      <th>AMT_INCOME_TOTAL</th>\n      <th>AMT_CREDIT</th>\n      <th>AMT_ANNUITY</th>\n      <th>AMT_GOODS_PRICE</th>\n      <th>NAME_TYPE_SUITE</th>\n      <th>NAME_INCOME_TYPE</th>\n      <th>NAME_EDUCATION_TYPE</th>\n      <th>NAME_FAMILY_STATUS</th>\n      <th>NAME_HOUSING_TYPE</th>\n      <th>REGION_POPULATION_RELATIVE</th>\n      <th>DAYS_BIRTH</th>\n      <th>DAYS_EMPLOYED</th>\n      <th>DAYS_REGISTRATION</th>\n      <th>DAYS_ID_PUBLISH</th>\n      <th>OWN_CAR_AGE</th>\n      <th>FLAG_MOBIL</th>\n      <th>FLAG_EMP_PHONE</th>\n      <th>FLAG_WORK_PHONE</th>\n      <th>FLAG_CONT_MOBILE</th>\n      <th>FLAG_PHONE</th>\n      <th>FLAG_EMAIL</th>\n      <th>OCCUPATION_TYPE</th>\n      <th>CNT_FAM_MEMBERS</th>\n      <th>REGION_RATING_CLIENT</th>\n      <th>REGION_RATING_CLIENT_W_CITY</th>\n      <th>WEEKDAY_APPR_PROCESS_START</th>\n      <th>HOUR_APPR_PROCESS_START</th>\n      <th>REG_REGION_NOT_LIVE_REGION</th>\n      <th>REG_REGION_NOT_WORK_REGION</th>\n      <th>LIVE_REGION_NOT_WORK_REGION</th>\n      <th>REG_CITY_NOT_LIVE_CITY</th>\n      <th>REG_CITY_NOT_WORK_CITY</th>\n      <th>LIVE_CITY_NOT_WORK_CITY</th>\n      <th>ORGANIZATION_TYPE</th>\n      <th>EXT_SOURCE_1</th>\n      <th>EXT_SOURCE_2</th>\n      <th>EXT_SOURCE_3</th>\n      <th>APARTMENTS_AVG</th>\n      <th>BASEMENTAREA_AVG</th>\n      <th>YEARS_BEGINEXPLUATATION_AVG</th>\n      <th>YEARS_BUILD_AVG</th>\n      <th>COMMONAREA_AVG</th>\n      <th>ELEVATORS_AVG</th>\n      <th>ENTRANCES_AVG</th>\n      <th>FLOORSMAX_AVG</th>\n      <th>FLOORSMIN_AVG</th>\n      <th>LANDAREA_AVG</th>\n      <th>LIVINGAPARTMENTS_AVG</th>\n      <th>LIVINGAREA_AVG</th>\n      <th>NONLIVINGAPARTMENTS_AVG</th>\n      <th>NONLIVINGAREA_AVG</th>\n      <th>APARTMENTS_MODE</th>\n      <th>BASEMENTAREA_MODE</th>\n      <th>YEARS_BEGINEXPLUATATION_MODE</th>\n      <th>YEARS_BUILD_MODE</th>\n      <th>COMMONAREA_MODE</th>\n      <th>ELEVATORS_MODE</th>\n      <th>ENTRANCES_MODE</th>\n      <th>FLOORSMAX_MODE</th>\n      <th>FLOORSMIN_MODE</th>\n      <th>LANDAREA_MODE</th>\n      <th>LIVINGAPARTMENTS_MODE</th>\n      <th>LIVINGAREA_MODE</th>\n      <th>NONLIVINGAPARTMENTS_MODE</th>\n      <th>NONLIVINGAREA_MODE</th>\n      <th>APARTMENTS_MEDI</th>\n      <th>BASEMENTAREA_MEDI</th>\n      <th>YEARS_BEGINEXPLUATATION_MEDI</th>\n      <th>YEARS_BUILD_MEDI</th>\n      <th>COMMONAREA_MEDI</th>\n      <th>ELEVATORS_MEDI</th>\n      <th>ENTRANCES_MEDI</th>\n      <th>FLOORSMAX_MEDI</th>\n      <th>FLOORSMIN_MEDI</th>\n      <th>LANDAREA_MEDI</th>\n      <th>LIVINGAPARTMENTS_MEDI</th>\n      <th>LIVINGAREA_MEDI</th>\n      <th>NONLIVINGAPARTMENTS_MEDI</th>\n      <th>NONLIVINGAREA_MEDI</th>\n      <th>FONDKAPREMONT_MODE</th>\n      <th>HOUSETYPE_MODE</th>\n      <th>TOTALAREA_MODE</th>\n      <th>WALLSMATERIAL_MODE</th>\n      <th>EMERGENCYSTATE_MODE</th>\n      <th>OBS_30_CNT_SOCIAL_CIRCLE</th>\n      <th>DEF_30_CNT_SOCIAL_CIRCLE</th>\n      <th>OBS_60_CNT_SOCIAL_CIRCLE</th>\n      <th>DEF_60_CNT_SOCIAL_CIRCLE</th>\n      <th>DAYS_LAST_PHONE_CHANGE</th>\n      <th>FLAG_DOCUMENT_2</th>\n      <th>FLAG_DOCUMENT_3</th>\n      <th>FLAG_DOCUMENT_4</th>\n      <th>FLAG_DOCUMENT_5</th>\n      <th>FLAG_DOCUMENT_6</th>\n      <th>FLAG_DOCUMENT_7</th>\n      <th>FLAG_DOCUMENT_8</th>\n      <th>FLAG_DOCUMENT_9</th>\n      <th>FLAG_DOCUMENT_10</th>\n      <th>FLAG_DOCUMENT_11</th>\n      <th>FLAG_DOCUMENT_12</th>\n      <th>FLAG_DOCUMENT_13</th>\n      <th>FLAG_DOCUMENT_14</th>\n      <th>FLAG_DOCUMENT_15</th>\n      <th>FLAG_DOCUMENT_16</th>\n      <th>FLAG_DOCUMENT_17</th>\n      <th>FLAG_DOCUMENT_18</th>\n      <th>FLAG_DOCUMENT_19</th>\n      <th>FLAG_DOCUMENT_20</th>\n      <th>FLAG_DOCUMENT_21</th>\n      <th>AMT_REQ_CREDIT_BUREAU_HOUR</th>\n      <th>AMT_REQ_CREDIT_BUREAU_DAY</th>\n      <th>AMT_REQ_CREDIT_BUREAU_WEEK</th>\n      <th>AMT_REQ_CREDIT_BUREAU_MON</th>\n      <th>AMT_REQ_CREDIT_BUREAU_QRT</th>\n      <th>AMT_REQ_CREDIT_BUREAU_YEAR</th>\n    </tr>\n  </thead>\n  <tbody>\n    <tr>\n      <th>0</th>\n      <td>100002</td>\n      <td>1</td>\n      <td>Cash loans</td>\n      <td>M</td>\n      <td>N</td>\n      <td>Y</td>\n      <td>0</td>\n      <td>202500.0</td>\n      <td>406597.5</td>\n      <td>24700.5</td>\n      <td>351000.0</td>\n      <td>Unaccompanied</td>\n      <td>Working</td>\n      <td>Secondary / secondary special</td>\n      <td>Single / not married</td>\n      <td>House / apartment</td>\n      <td>0.018801</td>\n      <td>-9461</td>\n      <td>-637</td>\n      <td>-3648.0</td>\n      <td>-2120</td>\n      <td>NaN</td>\n      <td>1</td>\n      <td>1</td>\n      <td>0</td>\n      <td>1</td>\n      <td>1</td>\n      <td>0</td>\n      <td>Laborers</td>\n      <td>1.0</td>\n      <td>2</td>\n      <td>2</td>\n      <td>WEDNESDAY</td>\n      <td>10</td>\n      <td>0</td>\n      <td>0</td>\n      <td>0</td>\n      <td>0</td>\n      <td>0</td>\n      <td>0</td>\n      <td>Business Entity Type 3</td>\n      <td>0.083037</td>\n      <td>0.262949</td>\n      <td>0.139376</td>\n      <td>0.0247</td>\n      <td>0.0369</td>\n      <td>0.9722</td>\n      <td>0.6192</td>\n      <td>0.0143</td>\n      <td>0.00</td>\n      <td>0.0690</td>\n      <td>0.0833</td>\n      <td>0.1250</td>\n      <td>0.0369</td>\n      <td>0.0202</td>\n      <td>0.0190</td>\n      <td>0.0000</td>\n      <td>0.0000</td>\n      <td>0.0252</td>\n      <td>0.0383</td>\n      <td>0.9722</td>\n      <td>0.6341</td>\n      <td>0.0144</td>\n      <td>0.0000</td>\n      <td>0.0690</td>\n      <td>0.0833</td>\n      <td>0.1250</td>\n      <td>0.0377</td>\n      <td>0.022</td>\n      <td>0.0198</td>\n      <td>0.0</td>\n      <td>0.0</td>\n      <td>0.0250</td>\n      <td>0.0369</td>\n      <td>0.9722</td>\n      <td>0.6243</td>\n      <td>0.0144</td>\n      <td>0.00</td>\n      <td>0.0690</td>\n      <td>0.0833</td>\n      <td>0.1250</td>\n      <td>0.0375</td>\n      <td>0.0205</td>\n      <td>0.0193</td>\n      <td>0.0000</td>\n      <td>0.00</td>\n      <td>reg oper account</td>\n      <td>block of flats</td>\n      <td>0.0149</td>\n      <td>Stone, brick</td>\n      <td>No</td>\n      <td>2.0</td>\n      <td>2.0</td>\n      <td>2.0</td>\n      <td>2.0</td>\n      <td>-1134.0</td>\n      <td>0</td>\n      <td>1</td>\n      <td>0</td>\n      <td>0</td>\n      <td>0</td>\n      <td>0</td>\n      <td>0</td>\n      <td>0</td>\n      <td>0</td>\n      <td>0</td>\n      <td>0</td>\n      <td>0</td>\n      <td>0</td>\n      <td>0</td>\n      <td>0</td>\n      <td>0</td>\n      <td>0</td>\n      <td>0</td>\n      <td>0</td>\n      <td>0</td>\n      <td>0.0</td>\n      <td>0.0</td>\n      <td>0.0</td>\n      <td>0.0</td>\n      <td>0.0</td>\n      <td>1.0</td>\n    </tr>\n    <tr>\n      <th>1</th>\n      <td>100003</td>\n      <td>0</td>\n      <td>Cash loans</td>\n      <td>F</td>\n      <td>N</td>\n      <td>N</td>\n      <td>0</td>\n      <td>270000.0</td>\n      <td>1293502.5</td>\n      <td>35698.5</td>\n      <td>1129500.0</td>\n      <td>Family</td>\n      <td>State servant</td>\n      <td>Higher education</td>\n      <td>Married</td>\n      <td>House / apartment</td>\n      <td>0.003541</td>\n      <td>-16765</td>\n      <td>-1188</td>\n      <td>-1186.0</td>\n      <td>-291</td>\n      <td>NaN</td>\n      <td>1</td>\n      <td>1</td>\n      <td>0</td>\n      <td>1</td>\n      <td>1</td>\n      <td>0</td>\n      <td>Core staff</td>\n      <td>2.0</td>\n      <td>1</td>\n      <td>1</td>\n      <td>MONDAY</td>\n      <td>11</td>\n      <td>0</td>\n      <td>0</td>\n      <td>0</td>\n      <td>0</td>\n      <td>0</td>\n      <td>0</td>\n      <td>School</td>\n      <td>0.311267</td>\n      <td>0.622246</td>\n      <td>NaN</td>\n      <td>0.0959</td>\n      <td>0.0529</td>\n      <td>0.9851</td>\n      <td>0.7960</td>\n      <td>0.0605</td>\n      <td>0.08</td>\n      <td>0.0345</td>\n      <td>0.2917</td>\n      <td>0.3333</td>\n      <td>0.0130</td>\n      <td>0.0773</td>\n      <td>0.0549</td>\n      <td>0.0039</td>\n      <td>0.0098</td>\n      <td>0.0924</td>\n      <td>0.0538</td>\n      <td>0.9851</td>\n      <td>0.8040</td>\n      <td>0.0497</td>\n      <td>0.0806</td>\n      <td>0.0345</td>\n      <td>0.2917</td>\n      <td>0.3333</td>\n      <td>0.0128</td>\n      <td>0.079</td>\n      <td>0.0554</td>\n      <td>0.0</td>\n      <td>0.0</td>\n      <td>0.0968</td>\n      <td>0.0529</td>\n      <td>0.9851</td>\n      <td>0.7987</td>\n      <td>0.0608</td>\n      <td>0.08</td>\n      <td>0.0345</td>\n      <td>0.2917</td>\n      <td>0.3333</td>\n      <td>0.0132</td>\n      <td>0.0787</td>\n      <td>0.0558</td>\n      <td>0.0039</td>\n      <td>0.01</td>\n      <td>reg oper account</td>\n      <td>block of flats</td>\n      <td>0.0714</td>\n      <td>Block</td>\n      <td>No</td>\n      <td>1.0</td>\n      <td>0.0</td>\n      <td>1.0</td>\n      <td>0.0</td>\n      <td>-828.0</td>\n      <td>0</td>\n      <td>1</td>\n      <td>0</td>\n      <td>0</td>\n      <td>0</td>\n      <td>0</td>\n      <td>0</td>\n      <td>0</td>\n      <td>0</td>\n      <td>0</td>\n      <td>0</td>\n      <td>0</td>\n      <td>0</td>\n      <td>0</td>\n      <td>0</td>\n      <td>0</td>\n      <td>0</td>\n      <td>0</td>\n      <td>0</td>\n      <td>0</td>\n      <td>0.0</td>\n      <td>0.0</td>\n      <td>0.0</td>\n      <td>0.0</td>\n      <td>0.0</td>\n      <td>0.0</td>\n    </tr>\n    <tr>\n      <th>2</th>\n      <td>100004</td>\n      <td>0</td>\n      <td>Revolving loans</td>\n      <td>M</td>\n      <td>Y</td>\n      <td>Y</td>\n      <td>0</td>\n      <td>67500.0</td>\n      <td>135000.0</td>\n      <td>6750.0</td>\n      <td>135000.0</td>\n      <td>Unaccompanied</td>\n      <td>Working</td>\n      <td>Secondary / secondary special</td>\n      <td>Single / not married</td>\n      <td>House / apartment</td>\n      <td>0.010032</td>\n      <td>-19046</td>\n      <td>-225</td>\n      <td>-4260.0</td>\n      <td>-2531</td>\n      <td>26.0</td>\n      <td>1</td>\n      <td>1</td>\n      <td>1</td>\n      <td>1</td>\n      <td>1</td>\n      <td>0</td>\n      <td>Laborers</td>\n      <td>1.0</td>\n      <td>2</td>\n      <td>2</td>\n      <td>MONDAY</td>\n      <td>9</td>\n      <td>0</td>\n      <td>0</td>\n      <td>0</td>\n      <td>0</td>\n      <td>0</td>\n      <td>0</td>\n      <td>Government</td>\n      <td>NaN</td>\n      <td>0.555912</td>\n      <td>0.729567</td>\n      <td>NaN</td>\n      <td>NaN</td>\n      <td>NaN</td>\n      <td>NaN</td>\n      <td>NaN</td>\n      <td>NaN</td>\n      <td>NaN</td>\n      <td>NaN</td>\n      <td>NaN</td>\n      <td>NaN</td>\n      <td>NaN</td>\n      <td>NaN</td>\n      <td>NaN</td>\n      <td>NaN</td>\n      <td>NaN</td>\n      <td>NaN</td>\n      <td>NaN</td>\n      <td>NaN</td>\n      <td>NaN</td>\n      <td>NaN</td>\n      <td>NaN</td>\n      <td>NaN</td>\n      <td>NaN</td>\n      <td>NaN</td>\n      <td>NaN</td>\n      <td>NaN</td>\n      <td>NaN</td>\n      <td>NaN</td>\n      <td>NaN</td>\n      <td>NaN</td>\n      <td>NaN</td>\n      <td>NaN</td>\n      <td>NaN</td>\n      <td>NaN</td>\n      <td>NaN</td>\n      <td>NaN</td>\n      <td>NaN</td>\n      <td>NaN</td>\n      <td>NaN</td>\n      <td>NaN</td>\n      <td>NaN</td>\n      <td>NaN</td>\n      <td>NaN</td>\n      <td>NaN</td>\n      <td>NaN</td>\n      <td>NaN</td>\n      <td>NaN</td>\n      <td>0.0</td>\n      <td>0.0</td>\n      <td>0.0</td>\n      <td>0.0</td>\n      <td>-815.0</td>\n      <td>0</td>\n      <td>0</td>\n      <td>0</td>\n      <td>0</td>\n      <td>0</td>\n      <td>0</td>\n      <td>0</td>\n      <td>0</td>\n      <td>0</td>\n      <td>0</td>\n      <td>0</td>\n      <td>0</td>\n      <td>0</td>\n      <td>0</td>\n      <td>0</td>\n      <td>0</td>\n      <td>0</td>\n      <td>0</td>\n      <td>0</td>\n      <td>0</td>\n      <td>0.0</td>\n      <td>0.0</td>\n      <td>0.0</td>\n      <td>0.0</td>\n      <td>0.0</td>\n      <td>0.0</td>\n    </tr>\n    <tr>\n      <th>3</th>\n      <td>100006</td>\n      <td>0</td>\n      <td>Cash loans</td>\n      <td>F</td>\n      <td>N</td>\n      <td>Y</td>\n      <td>0</td>\n      <td>135000.0</td>\n      <td>312682.5</td>\n      <td>29686.5</td>\n      <td>297000.0</td>\n      <td>Unaccompanied</td>\n      <td>Working</td>\n      <td>Secondary / secondary special</td>\n      <td>Civil marriage</td>\n      <td>House / apartment</td>\n      <td>0.008019</td>\n      <td>-19005</td>\n      <td>-3039</td>\n      <td>-9833.0</td>\n      <td>-2437</td>\n      <td>NaN</td>\n      <td>1</td>\n      <td>1</td>\n      <td>0</td>\n      <td>1</td>\n      <td>0</td>\n      <td>0</td>\n      <td>Laborers</td>\n      <td>2.0</td>\n      <td>2</td>\n      <td>2</td>\n      <td>WEDNESDAY</td>\n      <td>17</td>\n      <td>0</td>\n      <td>0</td>\n      <td>0</td>\n      <td>0</td>\n      <td>0</td>\n      <td>0</td>\n      <td>Business Entity Type 3</td>\n      <td>NaN</td>\n      <td>0.650442</td>\n      <td>NaN</td>\n      <td>NaN</td>\n      <td>NaN</td>\n      <td>NaN</td>\n      <td>NaN</td>\n      <td>NaN</td>\n      <td>NaN</td>\n      <td>NaN</td>\n      <td>NaN</td>\n      <td>NaN</td>\n      <td>NaN</td>\n      <td>NaN</td>\n      <td>NaN</td>\n      <td>NaN</td>\n      <td>NaN</td>\n      <td>NaN</td>\n      <td>NaN</td>\n      <td>NaN</td>\n      <td>NaN</td>\n      <td>NaN</td>\n      <td>NaN</td>\n      <td>NaN</td>\n      <td>NaN</td>\n      <td>NaN</td>\n      <td>NaN</td>\n      <td>NaN</td>\n      <td>NaN</td>\n      <td>NaN</td>\n      <td>NaN</td>\n      <td>NaN</td>\n      <td>NaN</td>\n      <td>NaN</td>\n      <td>NaN</td>\n      <td>NaN</td>\n      <td>NaN</td>\n      <td>NaN</td>\n      <td>NaN</td>\n      <td>NaN</td>\n      <td>NaN</td>\n      <td>NaN</td>\n      <td>NaN</td>\n      <td>NaN</td>\n      <td>NaN</td>\n      <td>NaN</td>\n      <td>NaN</td>\n      <td>NaN</td>\n      <td>NaN</td>\n      <td>NaN</td>\n      <td>2.0</td>\n      <td>0.0</td>\n      <td>2.0</td>\n      <td>0.0</td>\n      <td>-617.0</td>\n      <td>0</td>\n      <td>1</td>\n      <td>0</td>\n      <td>0</td>\n      <td>0</td>\n      <td>0</td>\n      <td>0</td>\n      <td>0</td>\n      <td>0</td>\n      <td>0</td>\n      <td>0</td>\n      <td>0</td>\n      <td>0</td>\n      <td>0</td>\n      <td>0</td>\n      <td>0</td>\n      <td>0</td>\n      <td>0</td>\n      <td>0</td>\n      <td>0</td>\n      <td>NaN</td>\n      <td>NaN</td>\n      <td>NaN</td>\n      <td>NaN</td>\n      <td>NaN</td>\n      <td>NaN</td>\n    </tr>\n    <tr>\n      <th>4</th>\n      <td>100007</td>\n      <td>0</td>\n      <td>Cash loans</td>\n      <td>M</td>\n      <td>N</td>\n      <td>Y</td>\n      <td>0</td>\n      <td>121500.0</td>\n      <td>513000.0</td>\n      <td>21865.5</td>\n      <td>513000.0</td>\n      <td>Unaccompanied</td>\n      <td>Working</td>\n      <td>Secondary / secondary special</td>\n      <td>Single / not married</td>\n      <td>House / apartment</td>\n      <td>0.028663</td>\n      <td>-19932</td>\n      <td>-3038</td>\n      <td>-4311.0</td>\n      <td>-3458</td>\n      <td>NaN</td>\n      <td>1</td>\n      <td>1</td>\n      <td>0</td>\n      <td>1</td>\n      <td>0</td>\n      <td>0</td>\n      <td>Core staff</td>\n      <td>1.0</td>\n      <td>2</td>\n      <td>2</td>\n      <td>THURSDAY</td>\n      <td>11</td>\n      <td>0</td>\n      <td>0</td>\n      <td>0</td>\n      <td>0</td>\n      <td>1</td>\n      <td>1</td>\n      <td>Religion</td>\n      <td>NaN</td>\n      <td>0.322738</td>\n      <td>NaN</td>\n      <td>NaN</td>\n      <td>NaN</td>\n      <td>NaN</td>\n      <td>NaN</td>\n      <td>NaN</td>\n      <td>NaN</td>\n      <td>NaN</td>\n      <td>NaN</td>\n      <td>NaN</td>\n      <td>NaN</td>\n      <td>NaN</td>\n      <td>NaN</td>\n      <td>NaN</td>\n      <td>NaN</td>\n      <td>NaN</td>\n      <td>NaN</td>\n      <td>NaN</td>\n      <td>NaN</td>\n      <td>NaN</td>\n      <td>NaN</td>\n      <td>NaN</td>\n      <td>NaN</td>\n      <td>NaN</td>\n      <td>NaN</td>\n      <td>NaN</td>\n      <td>NaN</td>\n      <td>NaN</td>\n      <td>NaN</td>\n      <td>NaN</td>\n      <td>NaN</td>\n      <td>NaN</td>\n      <td>NaN</td>\n      <td>NaN</td>\n      <td>NaN</td>\n      <td>NaN</td>\n      <td>NaN</td>\n      <td>NaN</td>\n      <td>NaN</td>\n      <td>NaN</td>\n      <td>NaN</td>\n      <td>NaN</td>\n      <td>NaN</td>\n      <td>NaN</td>\n      <td>NaN</td>\n      <td>NaN</td>\n      <td>NaN</td>\n      <td>NaN</td>\n      <td>0.0</td>\n      <td>0.0</td>\n      <td>0.0</td>\n      <td>0.0</td>\n      <td>-1106.0</td>\n      <td>0</td>\n      <td>0</td>\n      <td>0</td>\n      <td>0</td>\n      <td>0</td>\n      <td>0</td>\n      <td>1</td>\n      <td>0</td>\n      <td>0</td>\n      <td>0</td>\n      <td>0</td>\n      <td>0</td>\n      <td>0</td>\n      <td>0</td>\n      <td>0</td>\n      <td>0</td>\n      <td>0</td>\n      <td>0</td>\n      <td>0</td>\n      <td>0</td>\n      <td>0.0</td>\n      <td>0.0</td>\n      <td>0.0</td>\n      <td>0.0</td>\n      <td>0.0</td>\n      <td>0.0</td>\n    </tr>\n  </tbody>\n</table>\n</div>"
     },
     "execution_count": 153,
     "metadata": {},
     "output_type": "execute_result"
    }
   ],
   "source": [
    "train = pd.read_csv('application_train.csv')\n",
    "test  = pd.read_csv('application_test.csv')\n",
    "submission = pd.read_csv('sample_submission.csv')\n",
    "train.head()"
   ],
   "metadata": {
    "collapsed": false,
    "pycharm": {
     "name": "#%%\n"
    }
   }
  },
  {
   "cell_type": "code",
   "execution_count": 154,
   "outputs": [
    {
     "name": "stdout",
     "output_type": "stream",
     "text": [
      "SK_ID_CURR\n",
      "TARGET\n",
      "NAME_CONTRACT_TYPE\n",
      "CODE_GENDER\n",
      "FLAG_OWN_CAR\n",
      "FLAG_OWN_REALTY\n",
      "CNT_CHILDREN\n",
      "AMT_INCOME_TOTAL\n",
      "AMT_CREDIT\n",
      "AMT_ANNUITY\n",
      "AMT_GOODS_PRICE\n",
      "NAME_TYPE_SUITE\n",
      "NAME_INCOME_TYPE\n",
      "NAME_EDUCATION_TYPE\n",
      "NAME_FAMILY_STATUS\n",
      "NAME_HOUSING_TYPE\n",
      "REGION_POPULATION_RELATIVE\n",
      "DAYS_BIRTH\n",
      "DAYS_EMPLOYED\n",
      "DAYS_REGISTRATION\n",
      "DAYS_ID_PUBLISH\n",
      "OWN_CAR_AGE\n",
      "FLAG_MOBIL\n",
      "FLAG_EMP_PHONE\n",
      "FLAG_WORK_PHONE\n",
      "FLAG_CONT_MOBILE\n",
      "FLAG_PHONE\n",
      "FLAG_EMAIL\n",
      "OCCUPATION_TYPE\n",
      "CNT_FAM_MEMBERS\n",
      "REGION_RATING_CLIENT\n",
      "REGION_RATING_CLIENT_W_CITY\n",
      "WEEKDAY_APPR_PROCESS_START\n",
      "HOUR_APPR_PROCESS_START\n",
      "REG_REGION_NOT_LIVE_REGION\n",
      "REG_REGION_NOT_WORK_REGION\n",
      "LIVE_REGION_NOT_WORK_REGION\n",
      "REG_CITY_NOT_LIVE_CITY\n",
      "REG_CITY_NOT_WORK_CITY\n",
      "LIVE_CITY_NOT_WORK_CITY\n",
      "ORGANIZATION_TYPE\n",
      "EXT_SOURCE_1\n",
      "EXT_SOURCE_2\n",
      "EXT_SOURCE_3\n",
      "APARTMENTS_AVG\n",
      "BASEMENTAREA_AVG\n",
      "YEARS_BEGINEXPLUATATION_AVG\n",
      "YEARS_BUILD_AVG\n",
      "COMMONAREA_AVG\n",
      "ELEVATORS_AVG\n",
      "ENTRANCES_AVG\n",
      "FLOORSMAX_AVG\n",
      "FLOORSMIN_AVG\n",
      "LANDAREA_AVG\n",
      "LIVINGAPARTMENTS_AVG\n",
      "LIVINGAREA_AVG\n",
      "NONLIVINGAPARTMENTS_AVG\n",
      "NONLIVINGAREA_AVG\n",
      "APARTMENTS_MODE\n",
      "BASEMENTAREA_MODE\n",
      "YEARS_BEGINEXPLUATATION_MODE\n",
      "YEARS_BUILD_MODE\n",
      "COMMONAREA_MODE\n",
      "ELEVATORS_MODE\n",
      "ENTRANCES_MODE\n",
      "FLOORSMAX_MODE\n",
      "FLOORSMIN_MODE\n",
      "LANDAREA_MODE\n",
      "LIVINGAPARTMENTS_MODE\n",
      "LIVINGAREA_MODE\n",
      "NONLIVINGAPARTMENTS_MODE\n",
      "NONLIVINGAREA_MODE\n",
      "APARTMENTS_MEDI\n",
      "BASEMENTAREA_MEDI\n",
      "YEARS_BEGINEXPLUATATION_MEDI\n",
      "YEARS_BUILD_MEDI\n",
      "COMMONAREA_MEDI\n",
      "ELEVATORS_MEDI\n",
      "ENTRANCES_MEDI\n",
      "FLOORSMAX_MEDI\n",
      "FLOORSMIN_MEDI\n",
      "LANDAREA_MEDI\n",
      "LIVINGAPARTMENTS_MEDI\n",
      "LIVINGAREA_MEDI\n",
      "NONLIVINGAPARTMENTS_MEDI\n",
      "NONLIVINGAREA_MEDI\n",
      "FONDKAPREMONT_MODE\n",
      "HOUSETYPE_MODE\n",
      "TOTALAREA_MODE\n",
      "WALLSMATERIAL_MODE\n",
      "EMERGENCYSTATE_MODE\n",
      "OBS_30_CNT_SOCIAL_CIRCLE\n",
      "DEF_30_CNT_SOCIAL_CIRCLE\n",
      "OBS_60_CNT_SOCIAL_CIRCLE\n",
      "DEF_60_CNT_SOCIAL_CIRCLE\n",
      "DAYS_LAST_PHONE_CHANGE\n",
      "FLAG_DOCUMENT_2\n",
      "FLAG_DOCUMENT_3\n",
      "FLAG_DOCUMENT_4\n",
      "FLAG_DOCUMENT_5\n",
      "FLAG_DOCUMENT_6\n",
      "FLAG_DOCUMENT_7\n",
      "FLAG_DOCUMENT_8\n",
      "FLAG_DOCUMENT_9\n",
      "FLAG_DOCUMENT_10\n",
      "FLAG_DOCUMENT_11\n",
      "FLAG_DOCUMENT_12\n",
      "FLAG_DOCUMENT_13\n",
      "FLAG_DOCUMENT_14\n",
      "FLAG_DOCUMENT_15\n",
      "FLAG_DOCUMENT_16\n",
      "FLAG_DOCUMENT_17\n",
      "FLAG_DOCUMENT_18\n",
      "FLAG_DOCUMENT_19\n",
      "FLAG_DOCUMENT_20\n",
      "FLAG_DOCUMENT_21\n",
      "AMT_REQ_CREDIT_BUREAU_HOUR\n",
      "AMT_REQ_CREDIT_BUREAU_DAY\n",
      "AMT_REQ_CREDIT_BUREAU_WEEK\n",
      "AMT_REQ_CREDIT_BUREAU_MON\n",
      "AMT_REQ_CREDIT_BUREAU_QRT\n",
      "AMT_REQ_CREDIT_BUREAU_YEAR\n"
     ]
    }
   ],
   "source": [
    "for c in train.columns:\n",
    "    print(c)"
   ],
   "metadata": {
    "collapsed": false,
    "pycharm": {
     "name": "#%%\n"
    }
   }
  },
  {
   "cell_type": "code",
   "execution_count": null,
   "outputs": [],
   "source": [
    "pd.set_option('display.max_rows', 150)\n",
    "print(train.corr()[\"TARGET\"].sort_values(ascending=False))"
   ],
   "metadata": {
    "collapsed": false,
    "pycharm": {
     "name": "#%%\n",
     "is_executing": true
    }
   }
  },
  {
   "cell_type": "markdown",
   "source": [
    "# Model 1"
   ],
   "metadata": {
    "collapsed": false,
    "pycharm": {
     "name": "#%% md\n"
    }
   }
  },
  {
   "cell_type": "code",
   "execution_count": null,
   "outputs": [],
   "source": [
    "features = [\"DAYS_BIRTH\",\n",
    "            \"REGION_RATING_CLIENT_W_CITY\",\n",
    "            \"DAYS_LAST_PHONE_CHANGE\",\n",
    "            \"EXT_SOURCE_1\",\n",
    "            \"EXT_SOURCE_2\",\n",
    "            \"EXT_SOURCE_3\"]\n",
    "for f in features:\n",
    "    train[f] = train[f].fillna(train[f].median())\n",
    "    test[f] = test[f].fillna(test[f].median())\n",
    "train[\"EXT_SOURCE_3\"]"
   ],
   "metadata": {
    "collapsed": false,
    "pycharm": {
     "name": "#%%\n",
     "is_executing": true
    }
   }
  },
  {
   "cell_type": "code",
   "execution_count": null,
   "outputs": [],
   "source": [
    "model1 = LogisticRegression()\n",
    "my_cross_validation(model1, train[features], train[\"TARGET\"], 10)"
   ],
   "metadata": {
    "collapsed": false,
    "pycharm": {
     "name": "#%%\n",
     "is_executing": true
    }
   }
  },
  {
   "cell_type": "code",
   "execution_count": null,
   "outputs": [],
   "source": [
    "model1.fit(train[features], train[\"TARGET\"])\n",
    "y_pred = model1.predict_proba(test[features])[:,1]\n",
    "submission['TARGET'] = y_pred\n",
    "submission.to_csv('predict1.csv', index = False)"
   ],
   "metadata": {
    "collapsed": false,
    "pycharm": {
     "name": "#%%\n",
     "is_executing": true
    }
   }
  },
  {
   "cell_type": "markdown",
   "source": [
    "cv roc-auc mean/std 0.652934248421855, 0.03979582924055982\n",
    "\n",
    "lb private/public 0.69169 0.70115"
   ],
   "metadata": {
    "collapsed": false,
    "pycharm": {
     "name": "#%% md\n"
    }
   }
  },
  {
   "cell_type": "markdown",
   "source": [
    "# Model 2"
   ],
   "metadata": {
    "collapsed": false,
    "pycharm": {
     "name": "#%% md\n"
    }
   }
  },
  {
   "cell_type": "code",
   "execution_count": null,
   "outputs": [],
   "source": [
    "normalize(features)\n",
    "model2 = LogisticRegression()\n",
    "my_cross_validation(model2, train[features], train[\"TARGET\"], 10)"
   ],
   "metadata": {
    "collapsed": false,
    "pycharm": {
     "name": "#%%\n",
     "is_executing": true
    }
   }
  },
  {
   "cell_type": "code",
   "execution_count": null,
   "outputs": [],
   "source": [
    "model2.fit(train[features], train[\"TARGET\"])\n",
    "y_pred = model2.predict_proba(test[features])[:,1]\n",
    "submission['TARGET'] = y_pred\n",
    "submission.to_csv('predict2.csv', index = False)"
   ],
   "metadata": {
    "collapsed": false,
    "pycharm": {
     "name": "#%%\n",
     "is_executing": true
    }
   }
  },
  {
   "cell_type": "markdown",
   "source": [
    "cv roc-auc mean/std 0.7202821552753629, 0.0049228768914965845\n",
    "\n",
    "lb private/public 0.70194 0.71383"
   ],
   "metadata": {
    "collapsed": false,
    "pycharm": {
     "name": "#%% md\n"
    }
   }
  },
  {
   "cell_type": "markdown",
   "source": [
    "# Model 3"
   ],
   "metadata": {
    "collapsed": false,
    "pycharm": {
     "name": "#%% md\n"
    }
   }
  },
  {
   "cell_type": "code",
   "execution_count": null,
   "outputs": [],
   "source": [
    "for c in train.columns:\n",
    "    if len(train[c].unique()) < 4:\n",
    "        print(len(train[c].unique()), c)"
   ],
   "metadata": {
    "collapsed": false,
    "pycharm": {
     "name": "#%%\n",
     "is_executing": true
    }
   }
  },
  {
   "cell_type": "code",
   "execution_count": null,
   "outputs": [],
   "source": [
    "train[\"APARTMENTS_AVG\"].unique()"
   ],
   "metadata": {
    "collapsed": false,
    "pycharm": {
     "name": "#%%\n",
     "is_executing": true
    }
   }
  },
  {
   "cell_type": "code",
   "execution_count": null,
   "outputs": [],
   "source": [
    "replace_dict = {\n",
    "    \"CODE_GENDER\": {\"M\": 0, \"F\": 1, \"XNA\": np.nan},\n",
    "    \"NAME_CONTRACT_TYPE\": {\"Cash loans\": 0, \"Revolving loans\": 1},\n",
    "    \"EMERGENCYSTATE_MODE\": {\"No\": 0, \"Yes\": 0}\n",
    "}\n",
    "\n",
    "for k in replace_dict.keys():\n",
    "    train[k] = train[k].replace(replace_dict[k])\n",
    "    test[k] = test[k].replace(replace_dict[k])\n",
    "\n",
    "for k in replace_dict.keys():\n",
    "    train[k] = train[k].fillna(train[k].median())\n",
    "    test[k] = test[k].fillna(test[k].median())\n",
    "\n",
    "features += replace_dict.keys()"
   ],
   "metadata": {
    "collapsed": false,
    "pycharm": {
     "name": "#%%\n",
     "is_executing": true
    }
   }
  },
  {
   "cell_type": "code",
   "execution_count": null,
   "outputs": [],
   "source": [
    "model3 = LogisticRegression()\n",
    "my_cross_validation(model3, train[features], train[\"TARGET\"], 10)"
   ],
   "metadata": {
    "collapsed": false,
    "pycharm": {
     "name": "#%%\n",
     "is_executing": true
    }
   }
  },
  {
   "cell_type": "code",
   "execution_count": null,
   "outputs": [],
   "source": [
    "model3.fit(train[features], train[\"TARGET\"])\n",
    "y_pred = model3.predict_proba(test[features])[:,1]\n",
    "submission['TARGET'] = y_pred\n",
    "submission.to_csv('predict3.csv', index = False)"
   ],
   "metadata": {
    "collapsed": false,
    "pycharm": {
     "name": "#%%\n",
     "is_executing": true
    }
   }
  },
  {
   "cell_type": "markdown",
   "source": [
    "cv roc-auc mean/std 0.7258636681573927, 0.004075368545835932\n",
    "\n",
    "lb private/public 0.70649 0.72104"
   ],
   "metadata": {
    "collapsed": false,
    "pycharm": {
     "name": "#%% md\n"
    }
   }
  },
  {
   "cell_type": "markdown",
   "source": [
    "# Model 4"
   ],
   "metadata": {
    "collapsed": false,
    "pycharm": {
     "name": "#%% md\n"
    }
   }
  },
  {
   "cell_type": "code",
   "execution_count": null,
   "outputs": [],
   "source": [
    "for i in range(2, 22):\n",
    "    features += [\"FLAG_DOCUMENT_\" + str(i)]"
   ],
   "metadata": {
    "collapsed": false,
    "pycharm": {
     "name": "#%%\n",
     "is_executing": true
    }
   }
  },
  {
   "cell_type": "code",
   "execution_count": null,
   "outputs": [],
   "source": [
    "model4 = LogisticRegression(max_iter=200)\n",
    "my_cross_validation(model4, train[features], train[\"TARGET\"], 10)"
   ],
   "metadata": {
    "collapsed": false,
    "pycharm": {
     "name": "#%%\n",
     "is_executing": true
    }
   }
  },
  {
   "cell_type": "code",
   "execution_count": null,
   "outputs": [],
   "source": [
    "model4.fit(train[features], train[\"TARGET\"])\n",
    "y_pred = model4.predict_proba(test[features])[:,1]\n",
    "submission['TARGET'] = y_pred\n",
    "submission.to_csv('predict4.csv', index = False)"
   ],
   "metadata": {
    "collapsed": false,
    "pycharm": {
     "name": "#%%\n",
     "is_executing": true
    }
   }
  },
  {
   "cell_type": "markdown",
   "source": [
    "cv roc-auc mean/std 0.7284747632662143, 0.003933530444388552\n",
    "\n",
    "lb private/public 0.70956 0.72169"
   ],
   "metadata": {
    "collapsed": false,
    "pycharm": {
     "name": "#%% md\n"
    }
   }
  },
  {
   "cell_type": "markdown",
   "source": [
    "# Model 5"
   ],
   "metadata": {
    "collapsed": false,
    "pycharm": {
     "name": "#%% md\n"
    }
   }
  },
  {
   "cell_type": "code",
   "execution_count": null,
   "outputs": [],
   "source": [
    "train[\"CREDIT_INCOME\"] = train[\"AMT_CREDIT\"] / train[\"AMT_INCOME_TOTAL\"]\n",
    "train[\"CREDIT_INCOME\"] = train[\"CREDIT_INCOME\"].fillna(train[\"CREDIT_INCOME\"].max())\n",
    "test[\"CREDIT_INCOME\"] = test[\"AMT_CREDIT\"] / test[\"AMT_INCOME_TOTAL\"]\n",
    "test[\"CREDIT_INCOME\"] = test[\"CREDIT_INCOME\"].fillna(test[\"CREDIT_INCOME\"].max())\n",
    "normalize([\"CREDIT_INCOME\"])\n",
    "features += [\"CREDIT_INCOME\"]"
   ],
   "metadata": {
    "collapsed": false,
    "pycharm": {
     "name": "#%%\n",
     "is_executing": true
    }
   }
  },
  {
   "cell_type": "code",
   "execution_count": null,
   "outputs": [],
   "source": [
    "model5 = LogisticRegression(max_iter=200)\n",
    "my_cross_validation(model5, train[features], train[\"TARGET\"], 10)"
   ],
   "metadata": {
    "collapsed": false,
    "pycharm": {
     "name": "#%%\n",
     "is_executing": true
    }
   }
  },
  {
   "cell_type": "code",
   "execution_count": null,
   "outputs": [],
   "source": [
    "model5.fit(train[features], train[\"TARGET\"])\n",
    "y_pred = model5.predict_proba(test[features])[:,1]\n",
    "submission['TARGET'] = y_pred\n",
    "submission.to_csv('predict5.csv', index = False)"
   ],
   "metadata": {
    "collapsed": false,
    "pycharm": {
     "name": "#%%\n",
     "is_executing": true
    }
   }
  },
  {
   "cell_type": "markdown",
   "source": [
    "cv roc-auc mean/std 0.7287039611138694, 0.003960359688432011\n",
    "\n",
    "lb private/public 0.71004 0.72192"
   ],
   "metadata": {
    "collapsed": false,
    "pycharm": {
     "name": "#%% md\n"
    }
   }
  },
  {
   "cell_type": "code",
   "execution_count": null,
   "outputs": [],
   "source": [
    "lbs = [0.71004, 0.70956, 0.70649, 0.70194, 0.69169]\n",
    "cvs = [0.7287039611138694, 0.7284747632662143, 0.7258636681573927, 0.7202821552753629, 0.652934248421855]\n",
    "names = [5, 4, 3, 2, 1]\n",
    "\n",
    "fig, ax = plt.subplots()\n",
    "ax.scatter(cvs, lbs)\n",
    "plt.title(\"1-5 models\")\n",
    "for i, txt in enumerate(names):\n",
    "    ax.annotate(txt, (cvs[i], lbs[i]))"
   ],
   "metadata": {
    "collapsed": false,
    "pycharm": {
     "name": "#%%\n",
     "is_executing": true
    }
   }
  },
  {
   "cell_type": "markdown",
   "source": [
    "# Mean solution"
   ],
   "metadata": {
    "collapsed": false,
    "pycharm": {
     "name": "#%% md\n"
    }
   }
  },
  {
   "cell_type": "code",
   "execution_count": null,
   "outputs": [],
   "source": [
    "for i in range(1, 6):\n",
    "    submission[i] = pd.read_csv(\"predict{0}.csv\".format(i))[\"TARGET\"]\n",
    "\n",
    "submission[\"TARGET\"] = submission[list(range(1, 6))].mean(axis=1)\n",
    "submission = submission.drop(list(range(1, 6)), axis=1)\n",
    "submission.to_csv('predict_mean.csv', index = False)"
   ],
   "metadata": {
    "collapsed": false,
    "pycharm": {
     "name": "#%%\n",
     "is_executing": true
    }
   }
  },
  {
   "cell_type": "markdown",
   "source": [
    "lb private/public 0.70657 0.71905"
   ],
   "metadata": {
    "collapsed": false,
    "pycharm": {
     "name": "#%% md\n"
    }
   }
  },
  {
   "cell_type": "markdown",
   "source": [
    "# Вывод\n",
    "\n",
    "Лучшей оказалась 5 модель с наибольшим количеством фичей,\n",
    "хотя добавление новых фичей улучшало результат совсем не на много.\n",
    "С добавлением фичей улучшался и результат кросс-валидации и итоговый результат.\n",
    "Нормализация фичей дает значительное улучшение результата.\n",
    "\n",
    "Среднее значение так и оказалось средним по результату,\n",
    "так как все 5 моделей не разные, а каждая следующая - улучшенная версия предыдущей.\n"
   ],
   "metadata": {
    "collapsed": false,
    "pycharm": {
     "name": "#%% md\n"
    }
   }
  }
 ],
 "metadata": {
  "kernelspec": {
   "display_name": "Python 3",
   "language": "python",
   "name": "python3"
  },
  "language_info": {
   "codemirror_mode": {
    "name": "ipython",
    "version": 2
   },
   "file_extension": ".py",
   "mimetype": "text/x-python",
   "name": "python",
   "nbconvert_exporter": "python",
   "pygments_lexer": "ipython2",
   "version": "2.7.6"
  }
 },
 "nbformat": 4,
 "nbformat_minor": 0
}